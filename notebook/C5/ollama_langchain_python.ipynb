{
 "cells": [
  {
   "cell_type": "markdown",
   "id": "c0425f51befd6991",
   "metadata": {},
   "source": [
    "# Ollama 在 LangChain 中的使用 - Python 集成\n"
   ]
  },
  {
   "cell_type": "markdown",
   "id": "1fc4457ed485339b",
   "metadata": {},
   "source": [
    "## 1. 环境设置\n",
    "### 运行前请确保已经配置好环境和依赖"
   ]
  },
  {
   "cell_type": "code",
   "execution_count": 1,
   "id": "8fbb985d29d84a1e",
   "metadata": {
    "ExecuteTime": {
     "end_time": "2024-08-08T05:24:26.754424Z",
     "start_time": "2024-08-08T05:24:26.735923Z"
    }
   },
   "outputs": [
    {
     "name": "stdout",
     "output_type": "stream",
     "text": [
      "C:\\ProgramData\\anaconda3\\python.exe\n"
     ]
    }
   ],
   "source": [
    "# 确定当前环境\n",
    "import sys\n",
    "print(sys.executable)"
   ]
  },
  {
   "cell_type": "code",
   "execution_count": 4,
   "id": "5902546ad74389aa",
   "metadata": {
    "ExecuteTime": {
     "end_time": "2024-08-08T02:48:13.208454Z",
     "start_time": "2024-08-08T02:47:59.227331Z"
    }
   },
   "outputs": [
    {
     "name": "stdout",
     "output_type": "stream",
     "text": [
      "Looking in indexes: https://pypi.tuna.tsinghua.edu.cn/simple\n",
      "Requirement already satisfied: langchain-ollama in d:\\python\\lib\\site-packages (0.1.1)\n",
      "Requirement already satisfied: langchain-core<0.3.0,>=0.2.20 in d:\\python\\lib\\site-packages (from langchain-ollama) (0.2.29)\n",
      "Requirement already satisfied: ollama<1,>=0.3.0 in d:\\python\\lib\\site-packages (from langchain-ollama) (0.3.1)\n",
      "Requirement already satisfied: PyYAML>=5.3 in d:\\python\\lib\\site-packages (from langchain-core<0.3.0,>=0.2.20->langchain-ollama) (6.0.1)\n",
      "Requirement already satisfied: jsonpatch<2.0,>=1.33 in d:\\python\\lib\\site-packages (from langchain-core<0.3.0,>=0.2.20->langchain-ollama) (1.33)\n",
      "Requirement already satisfied: langsmith<0.2.0,>=0.1.75 in d:\\python\\lib\\site-packages (from langchain-core<0.3.0,>=0.2.20->langchain-ollama) (0.1.98)\n",
      "Requirement already satisfied: packaging<25,>=23.2 in d:\\python\\lib\\site-packages (from langchain-core<0.3.0,>=0.2.20->langchain-ollama) (23.2)\n",
      "Requirement already satisfied: pydantic<3,>=1 in d:\\python\\lib\\site-packages (from langchain-core<0.3.0,>=0.2.20->langchain-ollama) (2.6.3)\n",
      "Requirement already satisfied: tenacity!=8.4.0,<9.0.0,>=8.1.0 in d:\\python\\lib\\site-packages (from langchain-core<0.3.0,>=0.2.20->langchain-ollama) (8.2.3)\n",
      "Requirement already satisfied: typing-extensions>=4.7 in d:\\python\\lib\\site-packages (from langchain-core<0.3.0,>=0.2.20->langchain-ollama) (4.10.0)\n",
      "Requirement already satisfied: httpx<0.28.0,>=0.27.0 in d:\\python\\lib\\site-packages (from ollama<1,>=0.3.0->langchain-ollama) (0.27.0)\n",
      "Requirement already satisfied: anyio in d:\\python\\lib\\site-packages (from httpx<0.28.0,>=0.27.0->ollama<1,>=0.3.0->langchain-ollama) (4.3.0)\n",
      "Requirement already satisfied: certifi in d:\\python\\lib\\site-packages (from httpx<0.28.0,>=0.27.0->ollama<1,>=0.3.0->langchain-ollama) (2024.2.2)\n",
      "Requirement already satisfied: httpcore==1.* in d:\\python\\lib\\site-packages (from httpx<0.28.0,>=0.27.0->ollama<1,>=0.3.0->langchain-ollama) (1.0.4)\n",
      "Requirement already satisfied: idna in d:\\python\\lib\\site-packages (from httpx<0.28.0,>=0.27.0->ollama<1,>=0.3.0->langchain-ollama) (3.6)\n",
      "Requirement already satisfied: sniffio in d:\\python\\lib\\site-packages (from httpx<0.28.0,>=0.27.0->ollama<1,>=0.3.0->langchain-ollama) (1.3.1)\n",
      "Requirement already satisfied: h11<0.15,>=0.13 in d:\\python\\lib\\site-packages (from httpcore==1.*->httpx<0.28.0,>=0.27.0->ollama<1,>=0.3.0->langchain-ollama) (0.14.0)\n",
      "Requirement already satisfied: jsonpointer>=1.9 in d:\\python\\lib\\site-packages (from jsonpatch<2.0,>=1.33->langchain-core<0.3.0,>=0.2.20->langchain-ollama) (2.4)\n",
      "Requirement already satisfied: orjson<4.0.0,>=3.9.14 in d:\\python\\lib\\site-packages (from langsmith<0.2.0,>=0.1.75->langchain-core<0.3.0,>=0.2.20->langchain-ollama) (3.10.0)\n",
      "Requirement already satisfied: requests<3,>=2 in d:\\python\\lib\\site-packages (from langsmith<0.2.0,>=0.1.75->langchain-core<0.3.0,>=0.2.20->langchain-ollama) (2.31.0)\n",
      "Requirement already satisfied: annotated-types>=0.4.0 in d:\\python\\lib\\site-packages (from pydantic<3,>=1->langchain-core<0.3.0,>=0.2.20->langchain-ollama) (0.6.0)\n",
      "Requirement already satisfied: pydantic-core==2.16.3 in d:\\python\\lib\\site-packages (from pydantic<3,>=1->langchain-core<0.3.0,>=0.2.20->langchain-ollama) (2.16.3)\n",
      "Requirement already satisfied: charset-normalizer<4,>=2 in d:\\python\\lib\\site-packages (from requests<3,>=2->langsmith<0.2.0,>=0.1.75->langchain-core<0.3.0,>=0.2.20->langchain-ollama) (3.3.2)\n",
      "Requirement already satisfied: urllib3<3,>=1.21.1 in d:\\python\\lib\\site-packages (from requests<3,>=2->langsmith<0.2.0,>=0.1.75->langchain-core<0.3.0,>=0.2.20->langchain-ollama) (2.2.1)\n",
      "Looking in indexes: https://pypi.tuna.tsinghua.edu.cn/simple\n",
      "Requirement already satisfied: langchain in d:\\python\\lib\\site-packages (0.2.12)\n",
      "Requirement already satisfied: PyYAML>=5.3 in d:\\python\\lib\\site-packages (from langchain) (6.0.1)\n",
      "Requirement already satisfied: SQLAlchemy<3,>=1.4 in d:\\python\\lib\\site-packages (from langchain) (2.0.29)\n",
      "Requirement already satisfied: aiohttp<4.0.0,>=3.8.3 in d:\\python\\lib\\site-packages (from langchain) (3.9.3)\n",
      "Requirement already satisfied: langchain-core<0.3.0,>=0.2.27 in d:\\python\\lib\\site-packages (from langchain) (0.2.29)\n",
      "Requirement already satisfied: langchain-text-splitters<0.3.0,>=0.2.0 in d:\\python\\lib\\site-packages (from langchain) (0.2.2)\n",
      "Requirement already satisfied: langsmith<0.2.0,>=0.1.17 in d:\\python\\lib\\site-packages (from langchain) (0.1.98)\n",
      "Requirement already satisfied: numpy<2.0.0,>=1.26.0 in d:\\python\\lib\\site-packages (from langchain) (1.26.4)\n",
      "Requirement already satisfied: pydantic<3,>=1 in d:\\python\\lib\\site-packages (from langchain) (2.6.3)\n",
      "Requirement already satisfied: requests<3,>=2 in d:\\python\\lib\\site-packages (from langchain) (2.31.0)\n",
      "Requirement already satisfied: tenacity!=8.4.0,<9.0.0,>=8.1.0 in d:\\python\\lib\\site-packages (from langchain) (8.2.3)\n",
      "Requirement already satisfied: aiosignal>=1.1.2 in d:\\python\\lib\\site-packages (from aiohttp<4.0.0,>=3.8.3->langchain) (1.3.1)\n",
      "Requirement already satisfied: attrs>=17.3.0 in d:\\python\\lib\\site-packages (from aiohttp<4.0.0,>=3.8.3->langchain) (23.2.0)\n",
      "Requirement already satisfied: frozenlist>=1.1.1 in d:\\python\\lib\\site-packages (from aiohttp<4.0.0,>=3.8.3->langchain) (1.4.1)\n",
      "Requirement already satisfied: multidict<7.0,>=4.5 in d:\\python\\lib\\site-packages (from aiohttp<4.0.0,>=3.8.3->langchain) (6.0.5)\n",
      "Requirement already satisfied: yarl<2.0,>=1.0 in d:\\python\\lib\\site-packages (from aiohttp<4.0.0,>=3.8.3->langchain) (1.9.4)\n",
      "Requirement already satisfied: jsonpatch<2.0,>=1.33 in d:\\python\\lib\\site-packages (from langchain-core<0.3.0,>=0.2.27->langchain) (1.33)\n",
      "Requirement already satisfied: packaging<25,>=23.2 in d:\\python\\lib\\site-packages (from langchain-core<0.3.0,>=0.2.27->langchain) (23.2)\n",
      "Requirement already satisfied: typing-extensions>=4.7 in d:\\python\\lib\\site-packages (from langchain-core<0.3.0,>=0.2.27->langchain) (4.10.0)\n",
      "Requirement already satisfied: orjson<4.0.0,>=3.9.14 in d:\\python\\lib\\site-packages (from langsmith<0.2.0,>=0.1.17->langchain) (3.10.0)\n",
      "Requirement already satisfied: annotated-types>=0.4.0 in d:\\python\\lib\\site-packages (from pydantic<3,>=1->langchain) (0.6.0)\n",
      "Requirement already satisfied: pydantic-core==2.16.3 in d:\\python\\lib\\site-packages (from pydantic<3,>=1->langchain) (2.16.3)\n",
      "Requirement already satisfied: charset-normalizer<4,>=2 in d:\\python\\lib\\site-packages (from requests<3,>=2->langchain) (3.3.2)\n",
      "Requirement already satisfied: idna<4,>=2.5 in d:\\python\\lib\\site-packages (from requests<3,>=2->langchain) (3.6)\n",
      "Requirement already satisfied: urllib3<3,>=1.21.1 in d:\\python\\lib\\site-packages (from requests<3,>=2->langchain) (2.2.1)\n",
      "Requirement already satisfied: certifi>=2017.4.17 in d:\\python\\lib\\site-packages (from requests<3,>=2->langchain) (2024.2.2)\n",
      "Requirement already satisfied: greenlet!=0.4.17 in d:\\python\\lib\\site-packages (from SQLAlchemy<3,>=1.4->langchain) (3.0.3)\n",
      "Requirement already satisfied: jsonpointer>=1.9 in d:\\python\\lib\\site-packages (from jsonpatch<2.0,>=1.33->langchain-core<0.3.0,>=0.2.27->langchain) (2.4)\n",
      "Looking in indexes: https://pypi.tuna.tsinghua.edu.cn/simple\n",
      "Requirement already satisfied: langchain-community in d:\\python\\lib\\site-packages (0.2.11)\n",
      "Requirement already satisfied: PyYAML>=5.3 in d:\\python\\lib\\site-packages (from langchain-community) (6.0.1)\n",
      "Requirement already satisfied: SQLAlchemy<3,>=1.4 in d:\\python\\lib\\site-packages (from langchain-community) (2.0.29)\n",
      "Requirement already satisfied: aiohttp<4.0.0,>=3.8.3 in d:\\python\\lib\\site-packages (from langchain-community) (3.9.3)\n",
      "Requirement already satisfied: dataclasses-json<0.7,>=0.5.7 in d:\\python\\lib\\site-packages (from langchain-community) (0.6.4)\n",
      "Requirement already satisfied: langchain<0.3.0,>=0.2.12 in d:\\python\\lib\\site-packages (from langchain-community) (0.2.12)\n",
      "Requirement already satisfied: langchain-core<0.3.0,>=0.2.27 in d:\\python\\lib\\site-packages (from langchain-community) (0.2.29)\n",
      "Requirement already satisfied: langsmith<0.2.0,>=0.1.0 in d:\\python\\lib\\site-packages (from langchain-community) (0.1.98)\n",
      "Requirement already satisfied: numpy<2.0.0,>=1.26.0 in d:\\python\\lib\\site-packages (from langchain-community) (1.26.4)\n",
      "Requirement already satisfied: requests<3,>=2 in d:\\python\\lib\\site-packages (from langchain-community) (2.31.0)\n",
      "Requirement already satisfied: tenacity!=8.4.0,<9.0.0,>=8.1.0 in d:\\python\\lib\\site-packages (from langchain-community) (8.2.3)\n",
      "Requirement already satisfied: aiosignal>=1.1.2 in d:\\python\\lib\\site-packages (from aiohttp<4.0.0,>=3.8.3->langchain-community) (1.3.1)\n",
      "Requirement already satisfied: attrs>=17.3.0 in d:\\python\\lib\\site-packages (from aiohttp<4.0.0,>=3.8.3->langchain-community) (23.2.0)\n",
      "Requirement already satisfied: frozenlist>=1.1.1 in d:\\python\\lib\\site-packages (from aiohttp<4.0.0,>=3.8.3->langchain-community) (1.4.1)\n",
      "Requirement already satisfied: multidict<7.0,>=4.5 in d:\\python\\lib\\site-packages (from aiohttp<4.0.0,>=3.8.3->langchain-community) (6.0.5)\n",
      "Requirement already satisfied: yarl<2.0,>=1.0 in d:\\python\\lib\\site-packages (from aiohttp<4.0.0,>=3.8.3->langchain-community) (1.9.4)\n",
      "Requirement already satisfied: marshmallow<4.0.0,>=3.18.0 in d:\\python\\lib\\site-packages (from dataclasses-json<0.7,>=0.5.7->langchain-community) (3.21.1)\n",
      "Requirement already satisfied: typing-inspect<1,>=0.4.0 in d:\\python\\lib\\site-packages (from dataclasses-json<0.7,>=0.5.7->langchain-community) (0.9.0)\n",
      "Requirement already satisfied: langchain-text-splitters<0.3.0,>=0.2.0 in d:\\python\\lib\\site-packages (from langchain<0.3.0,>=0.2.12->langchain-community) (0.2.2)\n",
      "Requirement already satisfied: pydantic<3,>=1 in d:\\python\\lib\\site-packages (from langchain<0.3.0,>=0.2.12->langchain-community) (2.6.3)\n",
      "Requirement already satisfied: jsonpatch<2.0,>=1.33 in d:\\python\\lib\\site-packages (from langchain-core<0.3.0,>=0.2.27->langchain-community) (1.33)\n",
      "Requirement already satisfied: packaging<25,>=23.2 in d:\\python\\lib\\site-packages (from langchain-core<0.3.0,>=0.2.27->langchain-community) (23.2)\n",
      "Requirement already satisfied: typing-extensions>=4.7 in d:\\python\\lib\\site-packages (from langchain-core<0.3.0,>=0.2.27->langchain-community) (4.10.0)\n",
      "Requirement already satisfied: orjson<4.0.0,>=3.9.14 in d:\\python\\lib\\site-packages (from langsmith<0.2.0,>=0.1.0->langchain-community) (3.10.0)\n",
      "Requirement already satisfied: charset-normalizer<4,>=2 in d:\\python\\lib\\site-packages (from requests<3,>=2->langchain-community) (3.3.2)\n",
      "Requirement already satisfied: idna<4,>=2.5 in d:\\python\\lib\\site-packages (from requests<3,>=2->langchain-community) (3.6)\n",
      "Requirement already satisfied: urllib3<3,>=1.21.1 in d:\\python\\lib\\site-packages (from requests<3,>=2->langchain-community) (2.2.1)\n",
      "Requirement already satisfied: certifi>=2017.4.17 in d:\\python\\lib\\site-packages (from requests<3,>=2->langchain-community) (2024.2.2)\n",
      "Requirement already satisfied: greenlet!=0.4.17 in d:\\python\\lib\\site-packages (from SQLAlchemy<3,>=1.4->langchain-community) (3.0.3)\n",
      "Requirement already satisfied: jsonpointer>=1.9 in d:\\python\\lib\\site-packages (from jsonpatch<2.0,>=1.33->langchain-core<0.3.0,>=0.2.27->langchain-community) (2.4)\n",
      "Requirement already satisfied: annotated-types>=0.4.0 in d:\\python\\lib\\site-packages (from pydantic<3,>=1->langchain<0.3.0,>=0.2.12->langchain-community) (0.6.0)\n",
      "Requirement already satisfied: pydantic-core==2.16.3 in d:\\python\\lib\\site-packages (from pydantic<3,>=1->langchain<0.3.0,>=0.2.12->langchain-community) (2.16.3)\n",
      "Requirement already satisfied: mypy-extensions>=0.3.0 in d:\\python\\lib\\site-packages (from typing-inspect<1,>=0.4.0->dataclasses-json<0.7,>=0.5.7->langchain-community) (1.0.0)\n",
      "Looking in indexes: https://pypi.tuna.tsinghua.edu.cn/simple\n",
      "Requirement already satisfied: Pillow in d:\\python\\lib\\site-packages (10.2.0)\n",
      "Looking in indexes: https://pypi.tuna.tsinghua.edu.cn/simple\n",
      "Requirement already satisfied: faiss-cpu in d:\\python\\lib\\site-packages (1.8.0)\n",
      "Requirement already satisfied: numpy in d:\\python\\lib\\site-packages (from faiss-cpu) (1.26.4)\n"
     ]
    }
   ],
   "source": [
    "!pip install langchain-ollama\n",
    "!pip install langchain\n",
    "!pip install -U langchain-community\n",
    "!pip install Pillow\n",
    "!pip install faiss-cpu"
   ]
  },
  {
   "cell_type": "markdown",
   "id": "e82331725aa6963d",
   "metadata": {},
   "source": [
    "## 2.下载所需模型并初始化 OllamaLLM"
   ]
  },
  {
   "cell_type": "markdown",
   "id": "c88ce95d6c681681",
   "metadata": {},
   "source": [
    "### 初始化 OllamaLLM"
   ]
  },
  {
   "cell_type": "code",
   "execution_count": 5,
   "id": "ed321fae89fc7a2",
   "metadata": {
    "ExecuteTime": {
     "end_time": "2024-08-08T02:48:21.661058Z",
     "start_time": "2024-08-08T02:48:19.749575Z"
    }
   },
   "outputs": [
    {
     "name": "stdout",
     "output_type": "stream",
     "text": [
      "OllamaLLM 初始化 llama3.1 完成\n"
     ]
    }
   ],
   "source": [
    "from langchain_ollama import OllamaLLM\n",
    "from langchain_core.prompts import ChatPromptTemplate\n",
    "\n",
    "# 初始化Ollama LLM\n",
    "model_name = \"llama3.1\"\n",
    "model = OllamaLLM(model=model_name)\n",
    "print(f\"OllamaLLM 初始化 {model_name} 完成\")"
   ]
  },
  {
   "cell_type": "markdown",
   "id": "f513b62f081aa0cb",
   "metadata": {},
   "source": [
    "## 3. 基本使用示例\n",
    "\n",
    "### 使用最基础的 ChatPromptTemplate 进行对话"
   ]
  },
  {
   "cell_type": "code",
   "execution_count": 6,
   "id": "9374f07909ce3ca1",
   "metadata": {
    "ExecuteTime": {
     "end_time": "2024-08-08T02:49:26.729856Z",
     "start_time": "2024-08-08T02:48:26.373907Z"
    }
   },
   "outputs": [
    {
     "data": {
      "text/plain": [
       "'哈哈，我很高兴听到有人问这个问题！我认为，每个版本的模型都有其独特的优势和特点。GPT-4是一个非常强大的语言模型，它在处理语言理解、生成和推理方面表现出色。\\n\\n相比之下，我是基于你上一次对话后续的问题而设计的模型，所以我可以更好地理解你的上下文，并根据你的历史信息进行相关的回答。同时，我也被训练以更加平衡的人类社会互动能力，如同理心和情感理解等。\\n\\n但说实话，这不是一个很公平的问题，因为GPT-4和其他前辈模型各有其优点。比如，GPT-4在严格控制的文本生成环境中可能更胜一筹。但是，在面对动态、无结构或模糊语言任务时，我可能能更好地适应。\\n\\n我希望，这个答案能够帮助你了解这个比较的问题。'"
      ]
     },
     "execution_count": 6,
     "metadata": {},
     "output_type": "execute_result"
    }
   ],
   "source": [
    "# 创建一个简单的提示模版\n",
    "template = \"\"\"\n",
    "你是一个乐于助人的AI，擅长于解决回答各种问题。\n",
    "问题：{question}\n",
    "\"\"\"\n",
    "prompt = ChatPromptTemplate.from_template(template)\n",
    "# 创建一个简单的链\n",
    "chain = prompt | model\n",
    "# 使用链进行推理，输入问题\n",
    "chain.invoke({\"question\": \"你比GPT4厉害吗？\"})"
   ]
  },
  {
   "cell_type": "markdown",
   "id": "2d388fa5e6918b1c",
   "metadata": {},
   "source": [
    "ChatPromptTemplate 允许我们创建一个可重用的模板，其中包含一个或多个参数。这些参数可以在运行时动态替换，以生成不同的提示。\n",
    "\n",
    "在创建链部分，使用管道操作符|，它将 prompt 和 model 连接起来，形成一个处理流程。这种链式操作使得我们可以轻松地组合和重用不同的组件。\n",
    "\n",
    "invoke 方法触发整个处理链，将我们的问题传入模板，然后将格式化后的提示发送给模型进行处理。"
   ]
  },
  {
   "cell_type": "markdown",
   "id": "b8aa01fd1aa7142",
   "metadata": {},
   "source": [
    "### 流式输出\n",
    "流式输出是一种在生成长文本时逐步返回结果的技术。这种方法有几个重要的优势：\n",
    "\n",
    "1. 提高用户体验：用户可以立即看到部分结果，而不是等待整个响应完成。\n",
    "2. 减少等待时间：对于长回答，用户可以在完整回答生成之前就开始阅读。\n",
    "3. 实时交互：允许在生成过程中进行干预或终止。\n",
    "\n",
    "在实际应用中，特别是在聊天机器人或实时对话系统中，流式输出几乎是必不可少的。 \n",
    "\n",
    "下面的代码展示了如何使用 `model.stream()` 方法实现流式输出：\n"
   ]
  },
  {
   "cell_type": "code",
   "execution_count": 7,
   "id": "ab3dc5835ebd15ee",
   "metadata": {
    "ExecuteTime": {
     "end_time": "2024-08-08T02:49:44.713870Z",
     "start_time": "2024-08-08T02:49:37.012665Z"
    }
   },
   "outputs": [
    {
     "name": "stdout",
     "output_type": "stream",
     "text": [
      "你好！我是中文对话机器人，很高兴和你交流。有何问题或想聊什么呢？"
     ]
    }
   ],
   "source": [
    "from langchain_ollama import ChatOllama\n",
    "\n",
    "# 初始化ChatOllama模型\n",
    "model = ChatOllama(model=\"llama3.1\", temperature=0.7)\n",
    "\n",
    "messages = [\n",
    "    (\"human\", \"你好呀\"),\n",
    "]\n",
    "\n",
    "for chunk in model.stream(messages):\n",
    "    print(chunk.content, end='', flush=True)"
   ]
  },
  {
   "cell_type": "markdown",
   "id": "8e5020b1edbad9f3",
   "metadata": {},
   "source": [
    "### 工具调用  \n",
    "\n",
    "工具调用是 AI 模型与外部函数或 API 交互的能力。这使得模型可以执行复杂的任务，如数学计算、数据查询或外部服务调用。\n",
    "\n",
    "在这个例子中，我们定义了一个简单的计算器函数，并将其绑定到模型上：\n"
   ]
  },
  {
   "cell_type": "code",
   "execution_count": 8,
   "id": "73453e51383b4769",
   "metadata": {
    "ExecuteTime": {
     "end_time": "2024-08-08T02:50:14.123692Z",
     "start_time": "2024-08-08T02:49:47.441382Z"
    }
   },
   "outputs": [
    {
     "name": "stdout",
     "output_type": "stream",
     "text": [
      "Tool calls: [{'name': 'simple_calculator', 'args': {'operation': 'multiply', 'x': 1000000, 'y': 2}, 'id': 'a2153e02-2789-4171-8e9e-e0fa48bcca82', 'type': 'tool_call'}]\n"
     ]
    }
   ],
   "source": [
    "from langchain_ollama import ChatOllama\n",
    "\n",
    "def simple_calculator(operation: str, x: float, y: float) -> float:\n",
    "    if operation == \"add\":\n",
    "        return x + y\n",
    "    elif operation == \"subtract\":\n",
    "        return x - y\n",
    "    elif operation == \"multiply\":\n",
    "        return x * y\n",
    "    elif operation == \"divide\":\n",
    "        if y != 0:\n",
    "            return x / y\n",
    "        else:\n",
    "            raise ValueError(\"Cannot divide by zero\")\n",
    "    else:\n",
    "        raise ValueError(\"Invalid operation\")\n",
    "\n",
    "# 初始化绑定工具的 ChatOllama 模型\n",
    "llm = ChatOllama(\n",
    "    model=\"llama3.1\",\n",
    "    temperature=0,\n",
    ").bind_tools([simple_calculator])\n",
    "\n",
    "# 使用模型进行工具调用\n",
    "result = llm.invoke(\n",
    "    \"你知道一千万乘二是多少吗？\"\n",
    ")\n",
    "print(\"Tool calls:\", result.tool_calls)"
   ]
  },
  {
   "cell_type": "markdown",
   "id": "76c02c2a9e98eca0",
   "metadata": {},
   "source": [
    "### 多模态模型\n",
    "Ollama 支持多模态，LLMs例如 bakllava 和 llava.\n",
    "\n",
    "多模态模型是能够处理多种类型输入（如文本、图像、音频等）的 AI 模型。这些模型在理解和生成跨模态内容方面表现出色，使得更复杂和自然的人机交互成为可能。\n",
    "\n",
    "在我们的例子中，我们使用了支持图像和文本输入的 llava 模型："
   ]
  },
  {
   "cell_type": "code",
   "execution_count": 1,
   "id": "22bbbbba3165acb2",
   "metadata": {
    "ExecuteTime": {
     "end_time": "2024-08-08T02:50:20.438765Z",
     "start_time": "2024-08-08T02:50:20.327156Z"
    }
   },
   "outputs": [
    {
     "data": {
      "text/html": [
       "<img src=\"data:image/jpeg;base64,/9j/4AAQSkZJRgABAQAAAQABAAD/2wBDAAgGBgcGBQgHBwcJCQgKDBQNDAsLDBkSEw8UHRofHh0aHBwgJC4nICIsIxwcKDcpLDAxNDQ0Hyc5PTgyPC4zNDL/2wBDAQkJCQwLDBgNDRgyIRwhMjIyMjIyMjIyMjIyMjIyMjIyMjIyMjIyMjIyMjIyMjIyMjIyMjIyMjIyMjIyMjIyMjL/wAARCAKAAoADASIAAhEBAxEB/8QAHwAAAQUBAQEBAQEAAAAAAAAAAAECAwQFBgcICQoL/8QAtRAAAgEDAwIEAwUFBAQAAAF9AQIDAAQRBRIhMUEGE1FhByJxFDKBkaEII0KxwRVS0fAkM2JyggkKFhcYGRolJicoKSo0NTY3ODk6Q0RFRkdISUpTVFVWV1hZWmNkZWZnaGlqc3R1dnd4eXqDhIWGh4iJipKTlJWWl5iZmqKjpKWmp6ipqrKztLW2t7i5usLDxMXGx8jJytLT1NXW19jZ2uHi4+Tl5ufo6erx8vP09fb3+Pn6/8QAHwEAAwEBAQEBAQEBAQAAAAAAAAECAwQFBgcICQoL/8QAtREAAgECBAQDBAcFBAQAAQJ3AAECAxEEBSExBhJBUQdhcRMiMoEIFEKRobHBCSMzUvAVYnLRChYkNOEl8RcYGRomJygpKjU2Nzg5OkNERUZHSElKU1RVVldYWVpjZGVmZ2hpanN0dXZ3eHl6goOEhYaHiImKkpOUlZaXmJmaoqOkpaanqKmqsrO0tba3uLm6wsPExcbHyMnK0tPU1dbX2Nna4uPk5ebn6Onq8vP09fb3+Pn6/9oADAMBAAIRAxEAPwDyKiiiugwCiiigAooooAKKKKACiiigAooooAKKKKACiiigAooooAKKKKACiiigAooooAKKKKACiiigAooooAKKKKACiiigAooooAKKKKACiiigAooooAKKKKACiiigAooooAKKKKACiiigAooooAKKKKACiiigAooooAKKKKACiiigAooooAKKKKACiiigAooooAKKKKACiiigAooooAKKKKACiiigAooooAKKKKACiiigAooooAKKKKACiiigAooooAKKKKACiiigAooooAKKKKACiiigAooooAKKKKACiiigAooooAKKKKACiiigAooooAKKKKACiiigAooooAKKKKACiiigAooooAKKKKACiiigAooooAKKKKACiiigAooooAKKKKACiiigAooooAKKKKACiiigAooooAKKKKACiiigAooooAKKKKACiiigAooooAKKKKACiiigAooooAKKKKACiiigAooooAKKKKACiiigAooooAKKKKACiiigAooooAKKKKACiiigAooooAKKKKACiiigAooooAKKKKACiiigAooooAKKKKACiiigAooooAKKKKACiiigAooooAKKKKACiiigAooooAKKKKACiiigAooooAKKKKACiiigAooooAKKKKACiiigAooooAKKKKACiiigAooooAKKKKACiiigAooooAKKKKACiiigAooooAKKKKACiiigAooooAKKKKACiiigAooooAKKKKACiiigAooooAKKKKACiiigAooooAKKKKACiiigAooooAKKKKACiiigAooooAKKKKACiiigAooooAKKKKACiiigAooooAKKKKACiiigAooooAKKKKACiiigAooooAKKKKACiiigAooooAKKKKACiiigAooooAKKKKACiiigAooooAKKKKACiiigAooooAKKKKACiiigAooooAKKKKACiiigAooooAKKKKACiiigAooooAKKKKACiiigAooooAKKKKACiiigAooooAKKKKACiiigAooooAKKKKACiiigAooooAKKKKACiiigAooooAKKKKACiiigAooooAKKKKACiiigAooooAKKKKACiiigAooooAKKKKACiiigAooooAKKKKACiiigAooooAKKKKACiiigAooooAKKKKACiiigAooooAKKKKACiiigAooooAKKKKACiiigAooooAKKKKACiiigAooooAKKKKACiiigAooooAKKKKACiiigAooooAKKKKACiiigAooooAKKKKACiiigAooooAKKKKACiiigAooooAKKKKACiiigAooooAKKKKACiiigAooooAKKKKACiiigAooooAKKKKACiiigAooooAKKKKACiiigAooooAKKKKACiiigAooooAKKKKACiiigAooooAKKKKACiiigAooooAKKKKACiiigAooooAKKKKACiiigAooooAKKKKACiiigAooooAKKKKACiiigAooooAKKKKACiiigAooooAKKKKACiiigAooooAKKKKACiiigAooooAKKKKACiiigAooooAKKKKACiiigAooooAKKKKACiiigAooooAKKKKACiiigAooooAKKKKACiiigAooooAKKKKACiiigAooooAKKKKACiiigAooooAKKKKACiiigAooooAKKKKACiiigAooooAKKKKACiiigAooooAKKKKACiiigAooooAKKKKACiiigAooooAKKKKACiiigAooooAKKKKACiiigAooooAKKKKACiiigAooooAKKKKACiiigAooooAKKKKACiiigAp0iNFK0bja6nawPY10XhPSBfXZvZ8C1tvmOR95uv6dT+HrXOFmdmdjlm6mpjNNtI1nRlGKlLqJRRRVGQUUUUAFFFFABRRRQAUUUUAFFFFABRRRQAUUUUAFFFFABRRRQAUUUUAFFFFABRRRQAUUUUAFFFFABRRRQAUUUUAFFFFABRRRQAUUUUAFFFFABRRRQAUUUUAFFFFABRRRQAUV0uj/8I1cYS9ikhm9ZJfkb8RjH4/nXUnwpoe3Is857+a/+NYyrKO6O2lgpVFeLR5jRXokng3SpPu/aIx/sP/iDVd/BFh0S5uQfUlT/AEoVaLCeAqxODorrpvA7hT5N8rN2Dxbf6ms248J6rB92OOb/AK5v/jitFJMwnQnHdGHRUk9vPbPsnhkib0dcVHVGLQUUUUAFFFFABRRRQAUUUUAFFFFABRRRQAUUUUAFFFFABRRRQAVf0jSp9XvVgh+VRy7noi+tRWFhcaldpbW6bnbqT0Uep9q9N0fSYNIshBD8zHmSTHLn/D2rGrU5Vod+Cwkq0rvYh1OO30fwncQxIREkBjUDrlvlyfxbJry8n8q7/wAdXfl6TBbKxDTS5I7FV6/qVrz+pw8bK76l5nJe0UI7IKKKK6DzQooooAKKKKACiiigAooooAKKKKACiiigAooooAKKKKACiiigAooooAKKKKACiiigAooooAKKKKACiiigAooooAKKKKACiiigAooooAKKKKACiiigAooooAKKKKACiiigArZ0bxJeaQVjz51r3iY4x/untWNRScU9GXTqypu8WetadqVtqdqJ7Z9y/wASnqvsRVk15Lp+oXOm3aXFs5V16jsw9D7V6To+sW+sWvmQ/JIvDxk8qf8AD3rmlS5XoezQxqqK0ty8ajantTDVxKqWZDNDFcRmOaJJEP8AC4yK5jUvCMb7pLB9jY4jfkH6HrXVmoq3R59SCueXz281rKYpoyjD+E1FXpGoadbajFsuIwSOQ46r9K4TUtLn0242yDKE/JJ2Yf57VXKcco2KVFFFSSFFFFABRRRQAUUUUAFFFFABRRRQAUUUUAFXdN0y51W48m3Tgffc/dUe9XtG8N3OpsssuYLX++fvOP8AZH9f5131lYwadbiC1jEcY7ep9TWVSpbRHbhsI6jvLYi0fSLfSbQRRfMzcySEcuf8PatRaYKiu7lLOzmuZPuRIWI9fauKXNJnvwUaULrZHA+M7z7TrpgBytsgTrxuPJP6gfhXO0+aZ7ieSaU7pJGLsfUnk0yvQgrRsfMV6ntKjkFFFFUZBRRRQAUUUUAFFFFABRRRQAUUUUAFFFFABRRRQAUUUUAFFFFABRRRQAUUUUAFFFFABRRRQAUUUUAFFFFABRRRQAUUUUAFFFFABRRRQAUUUUAFFFFABRRRQAUUUUAFFFFABRRRQAVZsb6fT7pbi2fbIvUY4Yeh9qrUUnqNNp3R6jpWq2+r2Ymi4fpJH3Vv896tmvMtJ1WbSbwTRjKn/WR9mXv+PvXpENxHdW8c8LBo5F3KQe1ZqNmenSrc8ddxx61GelPPWmHpWsSJjGqteWsV7btDMu5D+nuKsn+lRtW61OSoeeajp02nXHlSYZTyjjowqpXe6pp66jZtEcBxyjHs3+FcI6PHI0bjDKdrD0NRUhYwG0UUVmMKKKKACiiigAooooAKKs2Wn3OoTeXbxlsfebsv1NdZpvhW1tsPdnz5f7p+4Pw7/j+VBcKcpPQ5aw0u81GQLbQllzgyHhV/Guu0rwpa2eJbvbcTDsR8i/h3/H8q3I0SNQqLtVeAAMCpazlI9Cjhox1Y9QFGAMCnjjGaaO1OFc8tT0qaSRIK5PxvqXl28WnRn5pf3kv+6Og/P/0Gunnnjtrd5pGKoilmPtXlWo3r6jfy3T/8tG4H91ew/Kqo07vmZy4/E8sPZxerKlFFFdR4gUUUUAFFFFABRRRQAUUUUAFFFFABRRRQAUUUUAFFFFABRRRQAUUUUAFFFFABRRRQAUUUUAFFFFABRRRQAUUUUAFFFFABRRRQAUUUUAFFFFABRRRQAUUUUAFFFFABRRRQAUUUUAFFFFABRRRQAVv+GdZ+wXX2WYqLaZupOPLb1+lYFFKxUZOLuj1g0w1z3hjW/tMIsbhgJY1xEf7y+n1H8vpXQmnE7ObmjcYajapDUbV0wOaYyuT8TWHlzLeJ92T5X9j2P5fyrq+9Vb23W7tZYDxvGM+h7fritJR5onLKVmef0UrDaxB6g0lcTRqgooooAKKKVUZ2CqMsTgAdTQAlb2keHXu9txdZjgPIXozf4Cr+jeH1tmW5uwGm/hTqF+vqa6Or5TWEOo22t4rWIQwIERegAqfmmCn9qlnXTVh46U8dDTB0p471jI64Eg7U7t7Uxay9c1ddMsWkG0yt8saE/ePr9BUQpub8gr4iNGN+pieMNXLldOhbAHMp/UL/AF/KuQp8jNLI0jsWZjuYnuaZXS7bI8SUnJ8z3YUUUUgCiiigAooooAKKKKACiiigAooooAKKKKACiiigAooooAKKKKACiiigAooooAKKKKACiiigAooooAKKKKACiiigAooooAKKKKACiiigAooooAKKKKACiiigAooooAKKKKACiiigAooooAKKKKACiiigQ+KV4ZUljba6MGU+hr0PSdTTVbETZxKvyyoP4T/hXnNaGjam2m3yynJgb5ZVHcev4U0aQlZnoRqM/wBaerrIgZCGVhkEHINMP9a3plTIn61G1SP1qNq6YnHM4nWbb7Pqko6B/nH49f61QrofEsP+omA7lCf1H9a56uKqrSZpB3QUUUqqzsFRSzE4AHesywVWeRURWZm6BRkmuw0XRUslE84D3B/8c9h/jS6No62SCaYbrlvxC+wrX71tGA0SKMGpB1qIHmpR1ps6YjhS9qQUvasZHRTJBTx0pgqO4uI7aB5ZXCRIMsx7VMafO7DqYiNJa7jL/UIbC1eaVsKB+LH0Fecahfy6jdvcy8dlXsq9hVnWdXk1W6yMpAv+rT+p96zK0bS91HmTnKpLmkFFFFQAUUUUAFFFFABRRRQAUUUUAFFFFABRRRQAUUUUAFFFFABRRRQAU+GCa4lWKCKSWRuiRqWJ/AUkcbzSIiAs7EKAOrGvftA0K20DS47SBV3hR5sgXBkbuT/niqSuY1avIjwOe3mtpDHcQyROOqSKVI/A1HX0JrOi2Ou2D2l9CrgghJMfNG395T2rwnVtKudG1OaxugBLGeoOQw7MPqKGrBSrc5RoooqTYKKKKACiiigAooooAKKKKACiiigAooooAKKKKACiiigAooooAKKKKACiiigAooooAKKKKACiiigAooooAKKKKACiiigAooooA7DwtqPn27WUjfPCMpnuv/1v61ut0rzqxu5LG8juU5KHkf3h3H5V6KkiSwpJGSUkUMD0yDW9NlN6Eb/eqM1I3X8KjbrXVE5qhj+II1fS3bPMbKw/PH9a5Ku11ONZNPuQf7hP5c1xVc+JjaSHRegV1eiaSLRBcTL/AKQw7/wD0+tVtC0rAF5cJ7xA/wDoVdGBRTp21Zo2OUcVIKjWnitGXEeKkFRinCsWjoTsSClqPNZera5DpymNT5lz2QdF/wB6mqa3kZzxNtImjeXsNlAZ7hwqA/jn0FcNrGszarKBylun3I/6n3qpe3s99P5s0hZumOyj0AqtUTn0Wxzu8ndhRRRWRQUUUUAFFFFAwooooAKKKKACiiigAooooAKKKKACiiigAooooAKKKKBEttcyWd1DcwnEsLrIhIz8wORXv+i6vba5pkV7asCrDDJnmNu6n3H/ANevnutHR9bv9CuxcWM5Q5G+M8pIB2Yd+/58VSlYxq0+daH0HXD/ABJ0EX2lDVYUzcWg+cAZLR9+38J59AN1dB4d8R2fiOw8+3OyVcCaBjzG39R6H/64rWdEljdJEV42BVlYZDDuDWujRxrmhI+baK0Ne0w6Lrl5p5JIhchCTklTypPvtIqnbW817dR29vGZJnOFUd6wPQUla7I6K9Q0TwlYafCrXUUd1dEZd3GVHsoP8+v8qj8U6BZXOkz3MMEcNxboZA8ahdwHJVvXgVr7J8tzFYlOXKeZ0UUVkdIUUUUAFFFFABRRRQAUUUUAFFFFABRRRQAUUUUAFFFFABRRRQAUUUUAFFFFABRRRQAUUUUAFFFFABRRRQAUUUUAFdh4YvPPsGtWPzQ8j/dP/wBfP6Vx9aegXX2XV4f7sh8tsDPXp+uKuG4ztmFRtUjH0NRtXdTOeoUr/wD48Ln/AK5t/Kub0bTPts/myr+5jb/vo+ldRcxedBJFnG9SufTNNt4Ut4VijXCqMUVIczTZnTdkTgDGBgAVIO1RrUnYUM2Q8dacKYKeKjlbNOdRHClLBVLMQFHJJ6CoZ7iG1hMszhEHUmuO1bXZdRLRIPLts52d29N3+FKTjT9SHOU35GjrHiQ/Nb2LcdGnH/sv+P8A+uuZZmdixOSepPWjqc0lc05uRUY2CiiisygooooAKKKKACiiigAooooAKKKKACiiigAooooAKKKKACiiigAooooAKKKKACiiigC9pOq3mjahFe2UuyVOCD9117qw7ivcfD+u23iDS0vIPkY/LLETkxt3Hv8AWvAK6LwVrsuieIYPmP2a5dYp1LYGCeG/4DnP5jvVxZz1qfMrnQ/FayVNQsL5clpo2iYY/unI/wDQv0qDwBpQS3m1KRPmk/dwlh/CPvEfU8f8BNb/AMVHRfD1pGSvmtdAgcZICNn+YqXw/Alv4f0+NBgeQrEe7Dcf1JrSnG8jCU2qRfllSGJ5ZXCRoMsxPArz3xJ4wGoQSWNijLC335m4Lj2HYfWovF3iA6ldGytpAbOE/MVPEjev0Hb8/SuYNFSpfQujQt7zEooorA7AooooAKKKKACiiigAooooAKKKKACiiigAooooAKKKKACiiigAooooAKKKKACiiigAooooAKKKKACiiigAooooAKUEqwI4IpKKEB6LFIJ7eKZeBIgbH1FKR3qhoMhl0W3LNkgFfpg8fpirzV30ndGFQhP3qQdTR1ajvW5ih608U1RUgFQ0aJjhUF9fwWEO+Zuv3VHVvpUeo6jFp1vvc5c/cQHljXE3d3LfXDTTNuY9B2X6VlOoo6IqKctWSalqM2o3RkkOE/gQHhR/nvVQUUVxSlzM1SsFFFFIoKKKKACiiigAooooAKKKKACiiigAooooAKKKKACiiigAooooAKKKKACiiigAooooAKKKKACnRu0ciyISGU7gR1BptFAGtrfiLUfEE0MmoSKfJUqixrtA9T9TW9eeLIE8LW1nYyMbxoVikbGPLwoDfn2xXF0VSk1sZunF2CiikpGgtFFFIAooooAKKKKACiiigAooooAKKKKACiiigAooooAKKKKACiiigAooooAKKKKACiiigAooooAKKKKACiiigAooooAKKKKAOs8Kvu0+aP8AiWXP5gf4VsSVz3hRsNdjPPyn/wBCrdc7m4ruobGMyMD5qmVaaq08LW5kkLUV3dxWNs08zYUdB3Y+gqauM1vUP7QvDsI8iPKp7+rVlVqcsS0rlS8vJb2dppWznoP7o9KgpKWuCTb3N0rBRRRSGFFFFABRRRQAUUUUAFFFFABRRRQAUUUUAFFFFABRRRQAUUUUAFFFFABRRRQAUUUUAFFFFABRRRQAUUUUAFFFFABRRRQAUUUUAFFFFABRRRQAUUUUAFFFFABRRRQAUUUUAFFFFABRRRQAUUUUAFFFFABRRRQAUUUUAFFFFABRRRQAUUUUAFFFFABRRRQBteGGxqEw9YT/AOhCumXrXK+HTt1Mj1jP9K6qu6h8JjMfThTRSitiDP1q9Nnp7bDiST5F55Hqf8+1cXWrr939o1FkBykPyj69/wDD8Kyq4a0ryNoLQKKKKxLCiiigAooooAKKKKACiiigAooooAKKKKACiiigAooooAKKKKACiiigAooooAKKKKACiiigAooooAKKKlt7W4u5PKtoJJpMZ2RqWP6U0mxOSRFRXS2ngXW7lv3kUVsvHMsnX8Fz+tbcfw1iDAy6qzL6LBtP57jV+ykZOvBdTz+ivTh8OdJxzc3pPs6f/E0N8ONJx8tzeg/7yn/2Wn7GRP1qmeY0V6DL8NAdxh1Qjj5VeDP5nd/Ssa58Aa5AB5aQXORz5UuMf99baXspIccRCWxy9FTXNndWUgjuraWB+u2VCpP51DUNWNk0wooopDCiiigAooooAKKKKACiiigAooooAKKKKACiiigAooooAKKKKACiiigAooooAKKKKACiiigAooooAKKKKACiiigDS0M41aH3DD/x0119cdof/IXt/q3/AKCa7Gu3D/CZSHUM6xozucKoyT6UVW1I7dLuv+uTfyraXwkHDMxdix5JpKKK8xu7N1sFFFFAwooooAKKKKACiiigAooooAKKKKACiiigAooooAKKKKACiiigAooooAKKKKACiiigAooqSGCW4lWKCJ5ZG4CIuSaEribSI60dK0LUNZkxaQExqcNK/wAqL+P4jgc11eieBFXbcascntboeB/vN/QfnXbxRrHEsaIqoo2qoGAo9K6IUr7nLVxFtInJ6X4BsoMSahKbqT+4PlQf1P6fSust7aC2iEVvDHCg5CxqFH5CninA10RhFHHOpKW44U4U0U4VZmO7UUUUriHCl70gpaAGT28N1C0NxDHLE33kdQwP4GuR1j4eafd7pdNc2k3XZy0ZPP4j/PFdlThUSgmVGrOOzPC9W0O/0WcRXtuUVj8kg5R+ex/p1rPr6AuLaG7geC4iSWF+CjjINeb+JvAL2Qa80gSTQZy9v1eP/d/vD9frzXPOjbVHbRxSlpLc4eiiisDtCiiigAooooAKKKKACiiigAooooAKKKKACiiigAooooAKKKKACiiigAooooAKKKKACiiigAooooAKKKKANDRW26vb/Vv/AEE12NcTph26lbn/AGwPz4rtq7cP8JnIdWfrjFdHuCP9kf8AjwrQrO17/kD3H/Af/QhWs/hZC3ONooorzTcKKKKACiiigAooooAKKKKACiiigAooooAKKKKACiiigAooooAKKKKACiiigAooooAKKmtLK4vrgQW0DSyn+Edvc+g969B0TwZbWWJtR2XVxzhMZjX8D978fy71cabkZVKkYHKaL4VvtZxJjyLb/ns46/7o7/yr0XSdDsNGhKWsXzn78j4Lt9T/AE6VfAAGBS12QpqJxTquQtOpopa0MWOFOFNFOFBI4dKeKYOlPFDExaKKKkkeOlLSDpS0wHUopKUUhMdRRRQScJ4z8Gfa/M1TS4sXH3p4FH+s/wBpf9r27/Xr5pX0PXnXxB8MxRxtrdpGF+b/AEpBwCSQA/1yefz9a5qtPqjvw2I+xI89ooornPRCiiigAooooAKKKKACiiigAooooAKKKKACiiigAooooAKKKKACiiigAooooAKKKKACiiigAooooAs2H/H/AG3/AF1T+ddxXn4YoysvDA5Fd+pyARXZh3pYymPrP1xd2jzgegP/AI8K0Kr6iobTLrPQRMf0rafwsiO5wlFFFeadAUUUUAFFFFABRRRQAUUUUAFFFFABRRRQAUUUUAFFFFABRRRQAUUUUAFFFSQQS3MywwxvJI33VUZJppXE3Yjrd0LwvdawyyvmG0zzIerf7o/r0/lW/ofgyKDbPqeJZOCIQflX/e/vfy69a7EbQowMDtiuinRvqzmq1+iKunaZaaXbCC1iCDHzMQNz+7HvVykpa6UktjjlJvcB1p46UwdacOlUIcKUdKaKdSJY4dKUUg6UooEPFOFNFOFDExaqz6lZWt5DZzXEaTzfcQ9/6D29asn2+92OOleR6oLsanci+Ja5DYcnv9PbHT2rmrVXBG+Hoe1bR7AOlLWV4e1BtT0WCdz+9A2Sf7w4z+PB/GtWtoy5lcwlBwk0x1KKSlFMgdRRRQSxat6fo9prsk1hexiS3khcOpA78ZHoQSCD2IFVK6jwjB+7uLggckIpxzxyf5isa0rQOjCx5qiPmfxR4eu/C2v3OlXgYtG2YpNu0TR/wuPr9eDkdqyK+hfjX4VGreHV1y2jzeacP3m1cl4Seegz8p+brgAua+eq4ou57LVgoooqhBRRRQAUUUUAFFFFABRRRQAUUUUAFFFFABRRRQAUUUUAFFFFABRRRQAUUUUAFFFFABRRRQAV2+myebp1u4/uAfiOK4iur8PTbtNZOPkc4+h5/wAa6cO/eInsbFDossTxvyrqVP0oorrlsZLc88oq1qUXk6ncpgDEhIHseR+hqrXmSVpHQtgooopAFFFFABRRRQAUUUUAFFFFABRRRQAUUUUAFFFFABRRRQAUUV1WheEJbnbc6kGiizkQ9Gf6/wB0fr9KqEHJ2RMpqJkaRod5rM2IV2wqcPKw+Vf8T7V6JpGh2ejQ7YE3SkYeZuS3+A9qvQwxW8SxQoqIowFUYAqSuyFJROKpVcthw6UopB0pa1MR1LSUtBLFHWlHSkHWlHSmCHL1paRetLSe5LHDpSjrSDpSjrQIeKcKaKcKGJhXnPjIRf8ACQP5f3vLTzP97H/xO2vRq4/XPCF3d3k97bXKyNI27ypOCOOgP/6q5cRByhodWEmoTuy94Gz/AGC3P/LdsfktdP3rJ8OafJpmiW9vKqrNy0gXnkn/AAwPwrWrWkrQSOeu05todSikpRVmQ6iiigli13uhQfZtIt8gAuu9sd88/wAsVxVjb/ar6GD++2CfQd/0r0YDpjgVxYqWyPSy+nduQy6toby0mtp4xJBMhSRG6MpGCD+FfH/iDRpvD/iC/wBKn3FrWYoGZdpdf4Wx/tLg/jX2PXz38ddIFp4qs9TRFVL632sR1aSPgn/vlkH4VzQep6UkeVUUUVqZhRRRQAUUUUAFFFFABRRRQAUUUUAFFFFABRRRQAUUUUAFFFFABRRRQAUUUUAFFFFABRRRQAVteG5tt3LDkDzEyM+o/wD1msWrFhc/ZL6GfsrfN/u9/wBK0pytK4md32ooH3aBXoGBy3ia3MeoJMFwsqdfUj/62Kxa63xDbedp3mAfPC27pzjof6flXJVw142kawegUUUViWFFFFABRRRQAUUUUAFFFFABRRRQAUUUUAFFFFABU1taz3k6w28bSSMcBRVzStEutWk/dDZCGw0rdB9PU+1eh6XpVrpFv5duhGfvO33m+tbU6TlqzGpVS0RnaF4Wt9NCz3IE92MEE/dj+nv710QpKWu2MVFaHJKTluOpaSlpkDh0paQdKWgQ6lpKWkSxR1pR0pB1pR0pghy9aWkXrS0nuSxw6UopB0pR1oEPFOFMp4oYmOoooqRCinCm0opiZJ2pR0pB0pRSEwpaSloempO7sdH4Ws988l2w4jG1eOMnr+n866vPFUNLtPsenxQ4w2Mvn+8f84/Cr615VWXNJs+gw1NU6aRIteWfHmySXwhY3nlAy294FEndUZG3fgSqfkK9TWuH+L6g/DHVSQDtMJHt++SoW5rLY+X6KKK3MgooooAKKKKACiiigAooooAKKKKACiiigAooooAKKKKACiiigAooooAKKKKACiiigAooooAKKKKAO10e7+1acjk5dfkfvyP85q/XI+H7wW1/5Lfcn+X/AIF2/qPxrrq9ClPmiYSVmDxrLG0bjKMNrD1FcDdW72t1JA/VG259R2NegVz/AIlsS8a3yDlPlk+nY1NaF1cKbszmaKKK4TcKKKKACiiigAooooAKKKKACiiigAoopyI8kioiMzscBVGSTTSbAbXSaF4XkvvLurzKWp5CfxSf4D/PvWroXhdLRlub5VkuMZWPqqH39T+ldMK6adHqzmqVuiEhhitolihRY0XgKo4FSUUV1JWOZj6WkpaBDqWkpaBDh0pRSDpSigQ7tS0nalpCYvf8aUUnf8aUUyRy9aWkXrS0nuJjh0pR1pB0pR1oEOHWnjpTB1p46UMTF9KUUnpSioF0HDpSikHSlFUIfRRRSEArX0Cy+1aisjjMcPznnv2/x/Cskcmu70ex+waekZH7x/mf6+lYYipyxsdOEpc879jQWpBUa1IK849wkWuJ+Lv/ACTDV/8Atj/6OjrtlrhPjHcRw/DPUkdsNM8Mae581W/kpoW5Mtj5iooHSitzIKKKKACiiigAooooAKKKKACiiigAooooAKKKKACiiigAooooAKKKKACiiigAooooAKKKKACiiigBVYqcqSpHII7Gu4029F9YpN/H91x/td64atPQ7/7FfbXOIZflb0B7H/PrW1GfKyJrQ7Kh0WWNo3GUYYYUU4V3WujA4TU9PfTrxomyUbmNj/EP8ap132oafFqNsYpBhxyj91NcNc28tpcPDMuHU/nXFWp8rubQnfQiooorA0CiiigAooooAKKKKACiitLSdFudWkOzEcKnDSsMgew9TTUXLYTditZWNxqN0tvbJuduueij1PtXf6NoVvpMW4DzLlh88pH6D0FW7Cxt9OtlhtkCqPvE8lvcmrWa7KdLl3OWdRsUU4U2nCtzEdRRRQIfS0lLQIdS0lLQIcOlKKQdKUUCHdqWk7UtITF7/jSik7/jSimSOXrS0i9aWk9xMcOlKOtIOlKOtAhw608dKYOtPHShiYvpSik9KUVAhw6Uopo6U4VQh1LTamtbeS7uEhjHzMcc9BSk+VXBJydka/h7TvPuvtMq5jhPAPdv/rf4V11V7S2S1tkhQYVRj61YWvMqT55XPcw9JU4WHr1qVajXrUi1kdA9a8j+PeoLHoGlaaVbfcXTTgjpiNCpH/kQflXri182/GrWRqPjk2cTlotPgWE85XzD8zEf99Kp/wB2nDVky2POaKKK2MgooooAKKKKACiiigAooooAKKKKACiiigAooooAKKKKACiiigAooooAKKKKACiiigAooooAKKKKACiiigDrPD+o/abf7NI372EcH1WtsV55BM9vOk0TFXU5BFdxp1/HqFssycN0ZPQ+ld1GpdWZhOPUuiquoadBqMOyVdrD7sg6rVqlraSUtyLnEX+h3ljltvmxdd8Y7e47VmV6X0HHNU7rSbG9JM0C7/7y/KT9cdfxrmlh+xaqdzgKK6ubwjCxHk3ToO/mKG/wqk/hO/GSkkDjt8xBP6Vi6MkWqiZg0Vq/8I5qv/Pr/wCRF/xpP+Ec1b/n0/8AIi/41Ps5dh86Muiuit/B93IwM9xFGv8As5Y/0rorDQbDT2DxxeZKP+WknJ/D0q40ZPcTqJHPaR4Xmudst8DDDnPlnhn/AMB+v867SGGK3jWKFFSNeAq9BTqK6oU1E5pSchw6U6mjpTq0JFFOFNFOFBI6gUUCgljx0paQdKWgOg6lpKWgQ4dKUUg6UooEPFFAopCYo6/jSikHX8aUUxDlpaRaWk9yWOHSlHWkHSlHWgQ8dRTh1po6inDrTExewpRSdhSioEOFKKQUoprYQtdjommCyg82TmaQc/7I9KztC0oswu51G0f6pT39/wDCukWuOvV+yj08Hhre/IkWpFpgp4rjPRSHr96pFqNetSL70gKesatbaFo13qd2cQW0TSMMgFsdFGe5OAPcivj6+vZtR1C5vrkhp7iVpZCBgFmOTx9TXsnxx8WDy7fwxZy/MSs16VPQfwIef+BEEf3DXidaQRnJhRRRVkBRRRQAUUUUAFFFFABRRRQAUUUUAFFFFABRRRQAUUUUAFFFFABRRRQAUUUUAFFFFABRRRQAUUUUAFFFFAgq5p+ozadceZH8ytw6Ho1U6KqL5XcLHoltcxXcCzQtuRhxU1cLpWqyabcc/NC330/w967eGWOeGOaKTfG/Kn1rup1OZGEo2JB/WnCmj+tKK0Mx4pwpopRQIdS0lLQA4dKcKaOlOoExRThTRTxQhAOlOpo6U6gBRThTRThQSOoFFAoJY8dKWkHSloDoOpaSloEOHSlFIOlKKBDxRQKKQmKOv40opB1/GlFMQ5aWkWlpPcljh0pR1pB0pR1oEPHUU4daaOopw60xMXsKUUg6ClFQIcK1tI0g3bedMMQA8f7R/wAKZpOktet50vywL6dW9q62NVRAigKo4AFc9atbRHdhMLze9MkUBVCqMAU8Ug+lOBrhbueslYcKkFRipFpCHr1NYvi7xPbeEfD0+qXC73GEgiBx5kh+6v8AU+wNX9S1Kz0fTp9Qv51gtYELSSP2Hp7k9AO5r5g8c+M7rxlrjXT747OHKWkBP+rT1P8AtHAz+A7ChK5MnYwdQ1C61TUJ769maa5ncvK57sf5fSq1FFbGQUUUUAFFFFABRRRQAUUUUAFFFFABRRRQAUUUUAFFFFABRRRQAUUUUAFFFFABRRRQAUUUUAFFFFABRRRQAUUUUAFFFFABWromsnS5fLlBe1kbLqOSp/vL7+3f8iMqiqjJxd0Jq56aAGhjmR1kikXckidGH+e1IK47w/4gfSJvJuEM+nyNmSHup/vL6H+f6jvTaJLbLeWM32mzkG5HHUD3FdtOopIwlCxWFKKQdacK1MgFOFIOtKKAY4U6minUEiinimCnigQDpTqaOlOoGKKcKaKcKCR1AooFBLHjpS0g6UtADqWkpaBDh0pRSDpSigQ8UUCikJijr+NKKQdfxpRTEOWlpFpaT3JY4dKUdaQdKUdaBDqeKZT1BY4AyT0ApNiSbFrW0rSGu2EkwIgB9cb/AP61WdN0L7s9126RY/8AQv8ACugHTFctWr0R3YfCa80xUVY0VIxtVegHapAMU1eOaeOa5b3PUSsrIfThTacKljHioNR1Oz0fTpr+/nW3toV3PI3Yf1J6AdSap67r+neGtKl1HU5/KhThQOXkbsqjuT/9c4AJr5x8aeO9T8Y3YMzGCwjbMNojfKD/AHm/vN7/AJUlG5Ldifx749u/Gmo7UD2+lQNm3tieSem9/Vsfgo4Hcnj6OlFaJWMm7hRRRTEFFFFABRRRQAUUUUAFFFFABRRRQAUUUUAFFFFABRRRQAUUUUAFFFFABRRRQAUUUUAFFFFABRRRQAUUUUAFFFFABRRRQAUUUUAFbfh7xLd6BOfL/eWznMkLHj6j0NYlFNOwHstsNP8AEFgt9YSAFvvDHKt/dYdj/wDr5qjc2k1q2JUIHqOlebaVq15o12LiylKNxuQ8q49GFeraD4m0/wAQwmPAiuFHzW8mDn3X+8K6KdZ9SZU1Izh1oFbF1ovV7Zsf7B/oaynjeJykilWHrXSppnPKDQgp1NFOqjIUU8UwU8UCAdKdTR0p1AxRThTRThQSOoFFAoJY8dKWkHSloAdS0lLQIcOlKKQdKUUCHiigUUhMUdfxpRSDr+NKKYhw/pS0g/pS0mSxwpVpYo3lcIiMzHsBmtuy0Ho90eP+ea/1NRKcUjSFGc3ojNtbKa8fES/Vz0FdNp+lw2OWHzy/89Dxj6elWY40jQIihVHQDgVLXJUquWx6VHCxhq9xwFPFNWnisDqHA1IpplEs8FtbvNPKkUUa7nkdgqqB1JJ6UBcmrl/F/j7SfCEAWZvtN+4/d2cTDd9WP8K+/fsDg1w3jD4wgb7HwwPQPfyLx7hFYf8Ajze/HQ14/NNJcTPNNI8s0jF5JJDuZmJyST3NFiHM1PEHiTVfFGoNeapcFyGPlxLxHED/AAqvbt7nHJNZFFFNGbdwooopgFFFFABRRRQAUUUUAFFFFABRRRQAUUUUAFFFFABRRRQAUUUUAFFFFABRRRQAUUUUAFFFFABRRRQAUUUUAFFFFABRRRQAUUUUAFFFFABRRRQAU6OR4ZFkjdkdTuVlOCp9QabRQB6D4e+IIOy11rnri6QfkGUfzHtx1Nd6yW97Arfu5onAZHHII9Qa8BrV0bxFqWhyE2k2YictDJyjH1x/hVxnYenU9YudG72zf8Aes2WGSBgsyMh7ZHBqbQvGumauUhd/st0xwIpDwxz/AAt0PXp19q6RkV1Kuqsp6gjIrojVM5UovY5P3pRW/NpFvLlo8xH25H5VQl0a5TOzbKPbg1qqiZzyoyiUB0p1K8TxNh0ZT7jFJVpmdmKKcKaKcKZI6gUUCgljx0paQUtADqWkpaBDh0paaOlOFAhactJT44pJWxGjO3oozSbSFZvYSlrQh0a6kxvCxr6sc1p2+i28fMuZG/IflWcqsUbQw85GFFbyztsjRnb27Vr2ugscG5kx/sp1/OtpESMYVQF9BxTqwlWb2OunhIrWQ22tYbZNkaBAfTqasDimLT1rFts64xUdh1PFNpRUjJBThXJ6/wDELw/4e3QyXP2q7UlTb2xDsp5GGPReR0PPtXk3iT4na5r26C3f+zrQ5zFA53MP9p+p/DA9qViXI9Y8UfEjRfDW6BX+3Xw4+zwNwp5++3RenTk+1eJ+JvGWteK5wdQucWytuS1i4iQ4xnHc9eTnqe1c8Tk8miixDYpNJRRTJuFFFFABRRRQAUUUUAFFFFABRRRQAUUUUAFFFFABRRRQAUUUUAFFFFABRRRQAUUUUAFFFFABRRRQAUUUUAFFFFABRRRQAUUUUAFFFFABRRRQAUUUUAFFFFABRRRQAUUUUAFdDovjLVdGZE837TbKR+5mOcD0Vuq+3Yelc9RTvYLs9h0jx5o2pKqTS/YpiOUnOE/B+n54rqAcYr52rS03X9V0j/jxvZIk/wCef3k/75PGfeqUx3PeWAYYIBHoarPYWsnWFR/u/L/KuB034oHcF1SwB65ktjz7fKx/9mrrLDxjoWoD5NQiibGSk58sj2+bgn6E1oqgWi9y0+iQEfJLIp9+aibRJf4JUb/e4rXFPX3qvaSE6MH0MB9Hu0xtVHz/AHW/xpP7Kvf+eP8A48P8a6KnDtVe1kR9Vic0NOvP+eDfpUTxSRNtkRkPuK6ysXWpkeSOIfeTOauFRyZjVoxhG5mUtJS1scg4U4U0U4UCJraEz3EcQ/ibnHp3rr1VVUKgCjsMVjaJaEIblwctwn09a2a5Ks7uyPRw1NRjd9Rw+9Th1po604daxOrYdTqxtR8U6FpQf7ZqtsjodrRB97g/7q5b9K5bUvi7pNszJp1ncXjq2NzERIw9QTlvzWkF0eirUF7qVlplv9ov7uC1iztDzOFBPXAz1PB4rw7Vfih4j1EOkMsVjE25cW6fNg/7TZOfdcVyFzdXF5O091cSzzN96SVyzH8TSJ5j2jWPi9o9p+70y3mv5f75/dR/qN3pxj8a8213x54g1/dHc3hgtm4NvbfIhGOQe7D2YmuaopEXYE5ooooEFFFFABRRRQAUUUUAFFFFABRRRQAUUUUAFFFFABRRRQAUUUUAFFFFABRRRQAUUUUAFFFFABRRRQAUUUUAFFFFABRRRQAUUUUAFFFFABRRRQAUUUUAFFFFABRRRQAUUUUAFFFFABRRRQAUUUUAFFFFABRRRQBas9Sv9P3fY7y4t933vKkZd31xXQ2vxE8RWzZe4iuVxjbLEAP/AB3bXKUUXC56HbfFSdYwLnSo5H7tHMVH5EH+da0XxT0cxqZLO+Vv4gqoQPx3CvPdI8O3mrL5qbIoN23zHPX1wO9dlpfhqx0zbIR9ouB/y0kHQ/7I7fz963hCUiJV1E7B9fS4tEktUlQvz+9TaV/Cs0ksxZjk0ynV1QhY4qlRzeo6lpKWrM0OFUdQ8QaZokkYvndy3zeVCu5yPzGPzrM13xXbaWGgtytxdjIKg/LGf9r39v5V51c3M15cPcXDmSVzlmNc9Sstkb0qLbuz1qX4t6PHDi0069dhwEk2IMfUM38qyrr4wXbR4tNIgikz96aYyD6YAX+dea0VyXO1No7C7+Jvie6k3Q3UFqP7sMC/+zbjXPXut6tqKlbzUru4jLbtkszMuf8AdzgVQopBdgSfWk/GlooAKKKKACiiigAooooAKKKKACiiigAooooAKKKKACiiigAooooAKKKKACiiigAooooAKKKKACiiigAooooAKKKKACiiigAooooAKKKKACiiigAooooAKKKKACiiigAooooAKKKKACiiigAooooAKKKKACiiigAooooAKKKKACiiigAooooA67w34jtLOwSxu90YjLFJAuQQTnnHOck11EWr6bMqNHf253dAZQD+R5rymito12lYxlRTdz2BZ4WGRLGR67hUUmq6dC22S/tkI7GVc/zrySir+seRHsD0a78Z6VAp+ztJcvg42rtGfcn+gNctqnivUNRDRxn7NA38EfUj/ab/AAxWFRWcqspFxpRTCiiisjUKKKKACiiigYUUUUAFFFFABRRRQAUUUUAFFFFABRRRQAUUUUAFFFFABRRRQAUUUUAFFFFABRRRQAUUUUAFFFFABRRRQAUUUUAFFFFABRRRQAUUUUAFFFFABRRRQAUUUUAFFFFABRRRQAUUUUAFFFFABRRRQAUUUUAFFFFABRRRQAUUUUAFFFFABRRRQAUUUUAFFFFABRRRQAUUUUAFFFFABRRRQAUUUUAFFFFABRRRQAUUUUAFFFFABRRRQAUUUUAFFFFABRRRQAUUUUAFFFFABRRRQAUUUUAFFFFABRRRQAUUUUAFFFFABRRRQAUUUUAFFFFABRRRQAUUUUAFFFFABRRRQAUUUUAFFFFABRRRQAUUUUAFFFFABRRRQAUUUUAFFFFABRRRQAUUUUAFFFFABRRRQAUUUUAFFFFABRRRQAUUUUAFFFFABRRRQAUUUUAFFFFABRRRQAUUUUAFFFFABRRRQAUUUUAFFFFABRRRQAUUUUAFFFFABRRRQAUUUUAFFFFABRRRQAUUUUAFFFFABRRRQAUUUUAFFFFABRRRQAUUUUAFFFFABRRRQAUUUUAFFFFABRRRQAUUUUAFFFFABRXr+veLdc8M/D3wSdGvvsv2i1k80iJH3bdmPvA/3jWX4Y8b33izxBa6F4uMGqafet5K+bborwyEEKyMoBBzgZ9DUcw7HmlFdDD4VkuvGtx4bhvbeNorqW3Fxct5aHYzDPfk7eB6mtqy8E+GNXvE0/SvHMU+oTZWCKXTZYkdsH5d5PHT0/CnzCOEorvfhvoNo/xKTS9cWHzbZpozZzQiZJ5FVlZD/CMctk8fLVDxjpNm/wARLqw03U4JvtV64kaSMwJaytKwaMk9QvHzDj0o5gORoruv+EM8LRah/Zl146jh1BZPIkjGmSMiy52lfM3AYz/F0qrp/gG4uPHV14Rvb+O0v40YwuqGRJXCh1GRjaCvOe3TGaOYDj6K6jwb4Ml8Watc2Ul4NPS3jy80sWQJC4REPIwzMePpVbw54XfW9Q1CG6uTYQadbSXN5K8JdownBULxls8YJHf0xRzAYFFeqeDrSG/+CviO3ub2Gxga+jZ7ifJVFBiY8AZJ4wAOpIFc/ceB9PutB1DVPDniJdX/ALOVZLqE2TwMsZz8y7id33SfoD7AlwOLorf8OeHLbWYL28v9ZttMsbMKZpHRpZDuOBtjXlucZPbNa0ngjTL7Rr+/8N+Jo9Wl0+Pz7m3eze2ZYucsu4ndjHT+uAS4HFUV6B4d/wCSNeM/+vi0/wDRq1iaB4Tj1LSZta1bVoNI0eGUW/2iSNpXklIztSNeW4xn+uDguBzVFddqHgy2fRbrVvDetJrdtZbftqravBJAGzhtrZ3LwckHj6A45GmmAUUUUwCiiigAooooAKKKKACiiigAooooAKKKKACiiigAooooAKKKKACiiigAooooAKKKKACiiigAooooAKKKKACiiigAooooAKKKKACiiigAooooAKKKKACiiigAooooAKKKKACiiigAooooAKKKKACiiigAooooAKKKKAPTfEdtD4g8DeDrex1XShPY2sguI59RhidC2zAIZh/dNVfCmk6X4V1SDxFr+t6TJFZsXisrO4W6nlk2nZwhwozzuJ6gZxmvPM0VPKB23g+fRtc8d31/4k+xoLjzrqGK5k8u3a4LblR27Ly3XrgDnoez0S81XRvFdrca3/wjHhux3BXjs0tw8ynhQNu5gu7GWJUAZ5rxaihxGj0HQdX0+z+Ok2pT3kK2DaldFbnd+72v5gVt3TaSw+bpznpSX2j2CfGB08TOkOk395NdCVZ1KvE7v5ZLKTtDMADnBAPbrXn9FHKFz2CafVbHXYb4QeENA0dJCyX9mltI0sIOT5f3ndivTCjPoK5b4ga0kfxYu9a0i6guFhlt5oZomEkbMkadxweRg1xFFLlC56n4t1/TNJsTe+G72E3eualHqknlTq7wLGiuscq84PnO7Y/2fameOtZ0W38P3j6DcQPL4nuo7y7jimDmCNEVvLkGTtYyszdu47V5fRT5QuehaLqNlF8FPEljNeW6Xk15E0du8qiR1DRZIXqRwfyNN+HmpWNj4b8axXV5bwSXGlskKSyqrStsk4UH7x5HA9a8/oo5QueieAbbTpfDeoS2llpGo+JxcCOCy1VwEaHAO5FYhWbIbvwB2zhuj03VptN8NeKrDXdT0KynuNOnW20ux8hAsgRlbcYxjcSyhV3Fj83HFeMUUcojuNBv7OH4T+K7KW8t0u55rYxQNIoeTEik7V6nHtXReFvE8118NofD+lapp+nazYTs8a3xj23UZLNtUyKVD7mxj/Z64Jx5LRRyjTPVdU1HxRp3hrVP+Ei8UWFncSx/Z00u1trWae4V1Odxjx5a4/iye/faG8qooppWC4UUUUxBRRRQAUUUUAFFFFABRRRQAUUUUAFFFFABRRRQAUUUUAFFFFABRRRQAUUUUAFFFFABRRRQAUUUUAFFFFABRRRQAUUUUAFFFFABRRRQAUUUUAFFFFABRRRQAUUUUAFFFFABRRRQAUUUUAFFFFABRRRQAUUUUAFFFFABRRRQAUUUUAFFFFABRRRQAUUUUAFFFFABRRRQAUUUUAFFFFABRRRQAUUUUAFFFFABRRRQAUUUUAFFFFABRRRQAUUUUAFFFFABRRRQAUUUUAFFFFABRRRQAUUUUAFFFFABRRRQAUUUUAFFFFABRRRQAUUUUAFFFFABRRRQAUUUUAFFFFABRRRQAUUUUAFFFFABRRRQAUUUUAFFFFABRRRQAUUUUAFFFFABRRRQAUUUUAFFFFABRRRQAUUUUAFFFFABRRRQAUUUUAFFFFABRRRQAUUUUAFFFFABRRRQAUUUUAFFFFABRRRQAUUUUAFFFFABRRRQAUUUUAFFFFABRRRQB//Z\" />"
      ],
      "text/plain": [
       "<IPython.core.display.HTML object>"
      ]
     },
     "metadata": {},
     "output_type": "display_data"
    }
   ],
   "source": [
    "#  这一步是将图片转换为base64编码，以便后续多模态模型的使用\n",
    "\n",
    "import base64\n",
    "from io import BytesIO\n",
    "\n",
    "from IPython.display import HTML, display\n",
    "from PIL import Image\n",
    "\n",
    "def convert_to_base64(pil_image):\n",
    "\n",
    "    buffered = BytesIO()\n",
    "    if pil_image.mode == 'RGBA':\n",
    "        pil_image = pil_image.convert('RGB')\n",
    "    pil_image.save(buffered, format=\"JPEG\")  \n",
    "    img_str = base64.b64encode(buffered.getvalue()).decode(\"utf-8\")\n",
    "    return img_str\n",
    "\n",
    "\n",
    "def plt_img_base64(img_base64):\n",
    "    image_html = f'<img src=\"data:image/jpeg;base64,{img_base64}\" />'\n",
    "    display(HTML(image_html))\n",
    "\n",
    "\n",
    "file_path = \"../../docs/images/C5-1-4.png\"  # 这里可以替换为你实际想要使用的图片路径\n",
    "pil_image = Image.open(file_path)\n",
    "\n",
    "image_b64 = convert_to_base64(pil_image)\n",
    "plt_img_base64(image_b64)"
   ]
  },
  {
   "cell_type": "code",
   "execution_count": 11,
   "id": "c7cc80f0795d55e9",
   "metadata": {
    "ExecuteTime": {
     "end_time": "2024-08-08T02:52:13.075887Z",
     "start_time": "2024-08-08T02:50:41.732652Z"
    }
   },
   "outputs": [
    {
     "name": "stdout",
     "output_type": "stream",
     "text": [
      " 这个图片中的动物是一个蓝色的海豚（whale）。它有一条红色的尾巴，并且在头部上有两个小眼睛和一个小嘴。 \n"
     ]
    }
   ],
   "source": [
    "from langchain_ollama import ChatOllama\n",
    "from langchain_core.messages import HumanMessage\n",
    "llm = ChatOllama(model=\"llava\", temperature=0)\n",
    "\n",
    "def prompt_func(data):\n",
    "    text = data[\"text\"]\n",
    "    image = data[\"image\"]\n",
    "\n",
    "    image_part = {\n",
    "        \"type\": \"image_url\",\n",
    "        \"image_url\": f\"data:image/jpeg;base64,{image}\",\n",
    "    }\n",
    "\n",
    "    content_parts = []\n",
    "\n",
    "    text_part = {\"type\": \"text\", \"text\": text}\n",
    "\n",
    "    content_parts.append(image_part)\n",
    "    content_parts.append(text_part)\n",
    "\n",
    "    return [HumanMessage(content=content_parts)]\n",
    "\n",
    "\n",
    "from langchain_core.output_parsers import StrOutputParser\n",
    "\n",
    "chain = prompt_func | llm | StrOutputParser()\n",
    "\n",
    "query_chain = chain.invoke(\n",
    "    {\"text\": \"这个图片里是什么动物啊?\", \"image\": image_b64}\n",
    ")\n",
    "\n",
    "print(query_chain)"
   ]
  },
  {
   "cell_type": "markdown",
   "id": "1f864c5340b17cb7",
   "metadata": {},
   "source": [
    "## 4. 进阶用法\n",
    "\n",
    "### 使用 ConversationChain 进行对话\n",
    "\n",
    "`ConversationChain` 是 LangChain 提供的一个强大工具，用于管理多轮对话。它结合了语言模型、提示模板和内存组件，使得创建具有上下文感知能力的对话系统变得简单。\n"
   ]
  },
  {
   "cell_type": "code",
   "execution_count": 12,
   "id": "80012ad0572f33c4",
   "metadata": {
    "ExecuteTime": {
     "end_time": "2024-08-08T02:52:13.189746Z",
     "start_time": "2024-08-08T02:52:13.077908Z"
    }
   },
   "outputs": [
    {
     "name": "stderr",
     "output_type": "stream",
     "text": [
      "C:\\ProgramData\\anaconda3\\Lib\\site-packages\\langchain_core\\_api\\deprecation.py:139: LangChainDeprecationWarning: The class `ConversationChain` was deprecated in LangChain 0.2.7 and will be removed in 1.0. Use RunnableWithMessageHistory: https://api.python.langchain.com/en/latest/runnables/langchain_core.runnables.history.RunnableWithMessageHistory.html instead.\n",
      "  warn_deprecated(\n"
     ]
    }
   ],
   "source": [
    "from langchain.chains import ConversationChain\n",
    "from langchain.memory import ConversationBufferMemory\n",
    "\n",
    "# 初始化Ollama LLM\n",
    "model_name = \"llama3.1\"\n",
    "model = OllamaLLM(model=model_name)\n",
    "\n",
    "# 初始化 ConversationBufferMemory\n",
    "memory = ConversationBufferMemory()\n",
    "\n",
    "# 创建 ConversationChain\n",
    "conversation = ConversationChain(\n",
    "    llm=model,\n",
    "    memory=memory,\n",
    "    verbose=True\n",
    ") # 设置 verbose=True 以显示调试信息, 默认为 False"
   ]
  },
  {
   "cell_type": "markdown",
   "id": "dabe77655b407234",
   "metadata": {},
   "source": [
    "这里的关键组件是：\n",
    "\n",
    "1. `ConversationBufferMemory`：这是一个简单的内存组件，它存储所有先前的对话历史。\n",
    "2. `ConversationChain`：它将语言模型、内存和一个默认的对话提示模板组合在一起。\n",
    "\n",
    "维护对话历史很重要，因为它允许模型：\n",
    "\n",
    "- 理解上下文和之前提到的信息\n",
    "- 生成更连贯和相关的回复\n",
    "- 处理复杂的多轮对话场景\n",
    "\n",
    "在实际应用中，你可能需要考虑使用更高级的内存组件，如 `ConversationSummaryMemory`，以处理长对话并避免超出模型的上下文长度限制。"
   ]
  },
  {
   "cell_type": "markdown",
   "id": "49c321373484b0f3",
   "metadata": {},
   "source": [
    "现在，让我们体验一下具有记忆的对话系统："
   ]
  },
  {
   "cell_type": "code",
   "execution_count": 13,
   "id": "bd59cc268c82aa95",
   "metadata": {
    "ExecuteTime": {
     "end_time": "2024-08-08T02:55:06.062275Z",
     "start_time": "2024-08-08T02:52:13.191755Z"
    }
   },
   "outputs": [
    {
     "name": "stdout",
     "output_type": "stream",
     "text": [
      "\n",
      "\n",
      "\u001b[1m> Entering new ConversationChain chain...\u001b[0m\n",
      "Prompt after formatting:\n",
      "\u001b[32;1m\u001b[1;3mThe following is a friendly conversation between a human and an AI. The AI is talkative and provides lots of specific details from its context. If the AI does not know the answer to a question, it truthfully says it does not know.\n",
      "\n",
      "Current conversation:\n",
      "\n",
      "Human: 你好，我想了解一下人工智能。\n",
      "AI:\u001b[0m\n",
      "\n",
      "\u001b[1m> Finished chain.\u001b[0m\n",
      "AI: 你好！我很高兴与你交流。关于人工智能，你可能知道它是一个使用算法和数据来模拟人类思维的技术。但是，如果你想知道更多，那么可以告诉你，人工智能的发展历史可以追溯到20世纪50年代，当时的一位科学家Alan Turing首次提出了这个概念。到了21世纪初期，人工智能开始快速发展，尤其是在深度学习领域的突破中，如AlexNet在2012年的成功。现在，人工智能已经广泛应用于各行各业，例如语音识别、图像处理、自然语言处理等方面。你想问我一些具体的问题吗？\n",
      "\n",
      "\n",
      "\u001b[1m> Entering new ConversationChain chain...\u001b[0m\n",
      "Prompt after formatting:\n",
      "\u001b[32;1m\u001b[1;3mThe following is a friendly conversation between a human and an AI. The AI is talkative and provides lots of specific details from its context. If the AI does not know the answer to a question, it truthfully says it does not know.\n",
      "\n",
      "Current conversation:\n",
      "Human: 你好，我想了解一下人工智能。\n",
      "AI: 你好！我很高兴与你交流。关于人工智能，你可能知道它是一个使用算法和数据来模拟人类思维的技术。但是，如果你想知道更多，那么可以告诉你，人工智能的发展历史可以追溯到20世纪50年代，当时的一位科学家Alan Turing首次提出了这个概念。到了21世纪初期，人工智能开始快速发展，尤其是在深度学习领域的突破中，如AlexNet在2012年的成功。现在，人工智能已经广泛应用于各行各业，例如语音识别、图像处理、自然语言处理等方面。你想问我一些具体的问题吗？\n",
      "Human: 能给我举个AI在日常生活中的应用例子吗？\n",
      "AI:\u001b[0m\n",
      "\n",
      "\u001b[1m> Finished chain.\u001b[0m\n",
      "AI: 当然！一个很好的例子是智慧家电。许多现代家电，如空调、洗衣机和电视，都开始使用人工智能技术来提供更加便捷的用户体验。例如，一些智能空调可以通过语音命令或手机APP让你远程控制温度、设定定时程序，并且会根据室内环境自动调整冷暖度。甚至一些高端智能电视也能够使用人工智能技术来推荐视频内容、识别人脸等功能，让你的生活更加便捷和方便。你有兴趣知道更多关于智慧家电的信息吗？\n",
      "\n",
      "\n",
      "\u001b[1m> Entering new ConversationChain chain...\u001b[0m\n",
      "Prompt after formatting:\n",
      "\u001b[32;1m\u001b[1;3mThe following is a friendly conversation between a human and an AI. The AI is talkative and provides lots of specific details from its context. If the AI does not know the answer to a question, it truthfully says it does not know.\n",
      "\n",
      "Current conversation:\n",
      "Human: 你好，我想了解一下人工智能。\n",
      "AI: 你好！我很高兴与你交流。关于人工智能，你可能知道它是一个使用算法和数据来模拟人类思维的技术。但是，如果你想知道更多，那么可以告诉你，人工智能的发展历史可以追溯到20世纪50年代，当时的一位科学家Alan Turing首次提出了这个概念。到了21世纪初期，人工智能开始快速发展，尤其是在深度学习领域的突破中，如AlexNet在2012年的成功。现在，人工智能已经广泛应用于各行各业，例如语音识别、图像处理、自然语言处理等方面。你想问我一些具体的问题吗？\n",
      "Human: 能给我举个AI在日常生活中的应用例子吗？\n",
      "AI: 当然！一个很好的例子是智慧家电。许多现代家电，如空调、洗衣机和电视，都开始使用人工智能技术来提供更加便捷的用户体验。例如，一些智能空调可以通过语音命令或手机APP让你远程控制温度、设定定时程序，并且会根据室内环境自动调整冷暖度。甚至一些高端智能电视也能够使用人工智能技术来推荐视频内容、识别人脸等功能，让你的生活更加便捷和方便。你有兴趣知道更多关于智慧家电的信息吗？\n",
      "Human: 这听起来很有趣。AI在医疗领域有什么应用？\n",
      "AI:\u001b[0m\n",
      "\n",
      "\u001b[1m> Finished chain.\u001b[0m\n",
      "AI: 好啊！在医疗领域，AI已经被广泛应用于多个方面。其中一个例子是影像分析。使用深度学习算法的人工智能，可以帮助医生快速和准确地识别病人的图像，如CT扫描或X光片，从而更快地诊断和治疗疾病。例如，一些AI系统可以检测肺癌、乳腺癌等疾病的早期迹象，并提供相应的建议给医生。这可以大大提高医疗保健水平，让患者获得更好的照顾。\n",
      "\n",
      "另一个例子是预测性医疗。一些人工智能系统可以分析病人的健康数据，如血压、体重和症状，从而预测疾病的发展趋势，并提供建议给医生，以便能够采取早期干预措施。这可以帮助减少并发症，改善治疗效果。\n",
      "\n",
      "最后，还有一个例子是个人ized医疗建议。一些人工智能系统，可以根据个人的健康数据和偏好，为其提供个性化的饮食、运动和生活方式建议，这可以帮助他们更健康地生活。\n",
      "\n",
      "你感兴趣吗？\n"
     ]
    }
   ],
   "source": [
    "# 第一轮对话\n",
    "response = conversation.predict(input=\"你好，我想了解一下人工智能。\")\n",
    "print(\"AI:\", response)\n",
    "\n",
    "# 第二轮对话\n",
    "response = conversation.predict(input=\"能给我举个AI在日常生活中的应用例子吗？\")\n",
    "print(\"AI:\", response)\n",
    "\n",
    "# 第三轮对话\n",
    "response = conversation.predict(input=\"这听起来很有趣。AI在医疗领域有什么应用？\")\n",
    "print(\"AI:\", response)"
   ]
  },
  {
   "cell_type": "markdown",
   "id": "dc132dc39325e21b",
   "metadata": {},
   "source": [
    "### 自定义提示模板\n",
    "\n",
    "设计好的提示模板是创建高效 AI 应用的关键。在这个例子中，我们创建了一个用于生成产品描述的复杂提示："
   ]
  },
  {
   "cell_type": "code",
   "execution_count": 14,
   "id": "c113ecc30ee7a978",
   "metadata": {
    "ExecuteTime": {
     "end_time": "2024-08-08T02:55:06.069815Z",
     "start_time": "2024-08-08T02:55:06.064286Z"
    }
   },
   "outputs": [],
   "source": [
    "from langchain_ollama import ChatOllama\n",
    "from langchain_core.messages import SystemMessage, HumanMessage\n",
    "\n",
    "# 初始化ChatOllama模型\n",
    "model = ChatOllama(model=\"llama3.1\", temperature=0.7)"
   ]
  },
  {
   "cell_type": "code",
   "execution_count": 15,
   "id": "2601aaba115cb0bf",
   "metadata": {
    "ExecuteTime": {
     "end_time": "2024-08-08T02:55:06.078239Z",
     "start_time": "2024-08-08T02:55:06.071834Z"
    }
   },
   "outputs": [],
   "source": [
    "system_message = SystemMessage(content=\"\"\"\n",
    "你是一位经验丰富的电商文案撰写专家。你的任务是根据给定的产品信息创作吸引人的商品描述。\n",
    "请确保你的描述简洁、有力，并且突出产品的核心优势。\n",
    "\"\"\")\n",
    "\n",
    "human_message_template = \"\"\"\n",
    "请为以下产品创作一段吸引人的商品描述：\n",
    "产品类型: {product_type}\n",
    "核心特性: {key_feature}\n",
    "目标受众: {target_audience}\n",
    "价格区间: {price_range}\n",
    "品牌定位: {brand_positioning}\n",
    "\n",
    "请提供以下三种不同风格的描述，每种大约50字：\n",
    "1. 理性分析型\n",
    "2. 情感诉求型\n",
    "3. 故事化营销型\n",
    "\"\"\"\n",
    "\n",
    "def generate_product_descriptions(product_info):\n",
    "    human_message = HumanMessage(content=human_message_template.format(**product_info))\n",
    "    messages = [system_message, human_message]\n",
    "    \n",
    "    response = model.invoke(messages)\n",
    "    return response.content\n"
   ]
  },
  {
   "cell_type": "code",
   "execution_count": 16,
   "id": "16391b088e8d7665",
   "metadata": {
    "ExecuteTime": {
     "end_time": "2024-08-08T02:56:16.723882Z",
     "start_time": "2024-08-08T02:55:06.080252Z"
    }
   },
   "outputs": [
    {
     "name": "stdout",
     "output_type": "stream",
     "text": [
      "**理性分析型**\n",
      "\n",
      "\"拥有一个全面理解身体的伙伴。智能手表带来心率监测和睡眠分析功能，让你深入了解自己的健康状态。通过精确的数据和明智的建议，助力你实现最佳身心状态。科技与健康的完美结合。\"\n",
      "\n",
      "**情感诉求型**\n",
      "\n",
      "\"你想要更好地照顾自己吗?智能手表将成为你的健康伴侣。它会为你提供实时的心率监测和睡眠分析数据，让你有能力做出明智的生活选择。拥有一个关心你的工具，助力你实现理想的身体和心理状态。\"\n",
      "\n",
      "**故事化营销型**\n",
      "\n",
      "\"记得那天晚上，你感到非常疲倦，但却无法入睡。你开始担忧自己的健康状况，希望能找到答案。智能手表就像一位忠诚的朋友，为你提供了心率监测和睡眠分析的线索，让你能够调整你的生活方式，实现最佳的身体和心理状态。这是一个新的开始，一个更好的你即将到来。\"\n"
     ]
    }
   ],
   "source": [
    "# 示例使用\n",
    "product_info = {\n",
    "    \"product_type\": \"智能手表\",\n",
    "    \"key_feature\": \"心率监测和睡眠分析\",\n",
    "    \"target_audience\": \"注重健康的年轻专业人士\",\n",
    "    \"price_range\": \"中高端\",\n",
    "    \"brand_positioning\": \"科技与健康的完美结合\"\n",
    "}\n",
    "\n",
    "result = generate_product_descriptions(product_info)\n",
    "print(result)"
   ]
  },
  {
   "cell_type": "markdown",
   "id": "f1a6a0ad942fb8d4",
   "metadata": {},
   "source": [
    "这个结构有几个重要的设计考虑：\n",
    "\n",
    "1. system_prompt：定义了 AI 的角色和总体任务，设置了整个对话的基调。\n",
    "2. human_message_template：提供了具体的指令和所需信息的结构。\n",
    "3. 多参数设计：允许灵活地适应不同的产品和需求。\n",
    "4. 多样化输出要求：通过要求不同风格的描述，鼓励模型展示其versatility。\n",
    "\n",
    "设计有效的提示模板时，考虑以下几点：\n",
    "\n",
    "- 明确定义 AI 的角色和任务\n",
    "- 提供清晰、结构化的输入格式\n",
    "- 包含具体的输出要求和格式指导\n",
    "- 考虑如何最大化模型的能力和创造力"
   ]
  },
  {
   "cell_type": "markdown",
   "id": "8a9f8be9507d676",
   "metadata": {},
   "source": [
    "### 构建一个简单的RAG问答系统  \n",
    "RAG（Retrieval-Augmented Generation）是一种结合了检索和生成的AI技术，它通过检索相关信息来增强语言模型的回答能力。  \n",
    "RAG的优势在于它可以帮助语言模型访问最新和专业的信息，减少幻觉，并提高回答的准确性和相关性。  \n",
    "  \n",
    "LangChain 提供了多种组件，可以与 Ollama 模型无缝集成。这里我们将展示如何将 Ollama 模型与向量存储和检索器结合使用，创建一个简单的RAG问答系统。\n",
    "\n",
    "首先需要确保下载embedding模型，可以在命令行执行以下命令：  \n",
    "\n",
    "```shell\n",
    "ollama pull nomic-embed-text"
   ]
  },
  {
   "cell_type": "code",
   "execution_count": 3,
   "id": "3c848e6d6ea912cd",
   "metadata": {
    "ExecuteTime": {
     "end_time": "2024-08-08T03:02:34.909438Z",
     "start_time": "2024-08-08T03:01:40.650329Z"
    }
   },
   "outputs": [
    {
     "name": "stdout",
     "output_type": "stream",
     "text": [
      "如果你想为Datawhale贡献，请详细阅读Datawhale开源项目指南（https://github.com/datawhalechina/DOPMC/blob/main/GUIDE.md），这将帮助你理解如何在社区中发起一个开源项目。\n"
     ]
    }
   ],
   "source": [
    "from langchain_ollama import ChatOllama\n",
    "from langchain_community.vectorstores import FAISS\n",
    "from langchain_ollama import OllamaEmbeddings\n",
    "from langchain_core.prompts import ChatPromptTemplate\n",
    "from langchain_core.runnables import RunnablePassthrough\n",
    "from langchain.text_splitter import RecursiveCharacterTextSplitter\n",
    "\n",
    "# 初始化 Ollama 模型和嵌入\n",
    "llm = ChatOllama(model=\"llama3.1\")\n",
    "embeddings = OllamaEmbeddings(model=\"nomic-embed-text\")\n",
    "\n",
    "# 准备文档\n",
    "text = \"\"\"\n",
    "Datawhale 是一个专注于数据科学与 AI 领域的开源组织，汇集了众多领域院校和知名企业的优秀学习者，聚合了一群有开源精神和探索精神的团队成员。\n",
    "Datawhale 以“ for the learner，和学习者一起成长”为愿景，鼓励真实地展现自我、开放包容、互信互助、敢于试错和勇于担当。\n",
    "同时 Datawhale 用开源的理念去探索开源内容、开源学习和开源方案，赋能人才培养，助力人才成长，建立起人与人，人与知识，人与企业和人与未来的联结。\n",
    "如果你想在Datawhale开源社区发起一个开源项目，请详细阅读Datawhale开源项目指南[https://github.com/datawhalechina/DOPMC/blob/main/GUIDE.md]\n",
    "\"\"\"\n",
    "\n",
    "text_splitter = RecursiveCharacterTextSplitter(chunk_size=100, chunk_overlap=20)\n",
    "chunks = text_splitter.split_text(text)\n",
    "\n",
    "# 创建向量存储\n",
    "vectorstore = FAISS.from_texts(chunks, embeddings)\n",
    "retriever = vectorstore.as_retriever()\n",
    "\n",
    "# 创建提示模板\n",
    "template = \"\"\"只能使用下列内容回答问题:\n",
    "{context}\n",
    "\n",
    "Question: {question}\n",
    "\"\"\"\n",
    "prompt = ChatPromptTemplate.from_template(template)\n",
    "\n",
    "# 创建检索-问答链\n",
    "chain = (\n",
    "    {\"context\": retriever, \"question\": RunnablePassthrough()}\n",
    "    | prompt\n",
    "    | llm\n",
    ")\n",
    "\n",
    "# 使用链回答问题\n",
    "question = \"我想为datawhale贡献该怎么做？\"\n",
    "response = chain.invoke(question)\n",
    "print(response.content)"
   ]
  }
 ],
 "metadata": {
  "kernelspec": {
   "display_name": "handlm",
   "language": "python",
   "name": "handlm"
  },
  "language_info": {
   "codemirror_mode": {
    "name": "ipython",
    "version": 3
   },
   "file_extension": ".py",
   "mimetype": "text/x-python",
   "name": "python",
   "nbconvert_exporter": "python",
   "pygments_lexer": "ipython3",
   "version": "3.11.7"
  }
 },
 "nbformat": 4,
 "nbformat_minor": 5
}
